{
 "cells": [
  {
   "cell_type": "code",
   "execution_count": 1,
   "id": "063a36d0",
   "metadata": {},
   "outputs": [],
   "source": [
    "# AI ASSIGNMENT - 1\n",
    "# Name    : Thammisetty Nihitha Sree\n",
    "# Reg No  : 20MID0043\n",
    "# college : VIT Vellore\n",
    "# Branch  : CSE"
   ]
  },
  {
   "cell_type": "code",
   "execution_count": 2,
   "id": "69e5966e",
   "metadata": {},
   "outputs": [],
   "source": [
    "#TASK-1 : Create a pandas dataframe (DataFrame name as 'df') with numpy random values (4 features and 4 observation)"
   ]
  },
  {
   "cell_type": "code",
   "execution_count": 3,
   "id": "05776ea9",
   "metadata": {},
   "outputs": [
    {
     "name": "stdout",
     "output_type": "stream",
     "text": [
      "   Feature1  Feature2  Feature3  Feature4\n",
      "0  0.374540  0.950714  0.731994  0.598658\n",
      "1  0.156019  0.155995  0.058084  0.866176\n",
      "2  0.601115  0.708073  0.020584  0.969910\n",
      "3  0.832443  0.212339  0.181825  0.183405\n"
     ]
    }
   ],
   "source": [
    "import numpy as np\n",
    "import pandas as pd\n",
    "\n",
    "# Set the random seed for reproducibility\n",
    "np.random.seed(42)\n",
    "\n",
    "# Create random values\n",
    "data = np.random.rand(4, 4)\n",
    "\n",
    "# Create the DataFrame\n",
    "df = pd.DataFrame(data, columns=['Feature1', 'Feature2', 'Feature3', 'Feature4'])\n",
    "print(df)"
   ]
  },
  {
   "cell_type": "code",
   "execution_count": 4,
   "id": "e52e09d1",
   "metadata": {},
   "outputs": [],
   "source": [
    "#TASK-2 : Rename the task - 1 'df' dataframe column names to 'Random value 1', 'Random value 2', 'Random value 3' & 'Random value 4"
   ]
  },
  {
   "cell_type": "code",
   "execution_count": 5,
   "id": "a203baeb",
   "metadata": {},
   "outputs": [
    {
     "name": "stdout",
     "output_type": "stream",
     "text": [
      "   Random value 1  Random value 2  Random value 3  Random value 4\n",
      "0        0.374540        0.950714        0.731994        0.598658\n",
      "1        0.156019        0.155995        0.058084        0.866176\n",
      "2        0.601115        0.708073        0.020584        0.969910\n",
      "3        0.832443        0.212339        0.181825        0.183405\n"
     ]
    }
   ],
   "source": [
    "# Rename the column names\n",
    "df.rename(columns={'Feature1': 'Random value 1', 'Feature2': 'Random value 2',\n",
    "                   'Feature3': 'Random value 3', 'Feature4': 'Random value 4'},\n",
    "          inplace=True)\n",
    "print(df)"
   ]
  },
  {
   "cell_type": "code",
   "execution_count": 6,
   "id": "f706020d",
   "metadata": {},
   "outputs": [],
   "source": [
    "#TASK-3 : Find the descriptive statistics of the 'df' dataframe."
   ]
  },
  {
   "cell_type": "code",
   "execution_count": 7,
   "id": "75410cb8",
   "metadata": {},
   "outputs": [
    {
     "name": "stdout",
     "output_type": "stream",
     "text": [
      "       Random value 1  Random value 2  Random value 3  Random value 4\n",
      "count        4.000000        4.000000        4.000000        4.000000\n",
      "mean         0.491029        0.506780        0.248122        0.654537\n",
      "std          0.291252        0.386153        0.329856        0.350875\n",
      "min          0.156019        0.155995        0.020584        0.183405\n",
      "25%          0.319910        0.198253        0.048709        0.494845\n",
      "50%          0.487828        0.460206        0.119954        0.732417\n",
      "75%          0.658947        0.768733        0.319367        0.892110\n",
      "max          0.832443        0.950714        0.731994        0.969910\n"
     ]
    }
   ],
   "source": [
    "# Display descriptive statistics\n",
    "statistics = df.describe()\n",
    "\n",
    "# Print the statistics\n",
    "print(statistics)\n"
   ]
  },
  {
   "cell_type": "code",
   "execution_count": 8,
   "id": "0b7024c1",
   "metadata": {},
   "outputs": [],
   "source": [
    "#TASK-4 : Check for the null values in 'df' and find the data type of the columns"
   ]
  },
  {
   "cell_type": "code",
   "execution_count": 9,
   "id": "02fe5e02",
   "metadata": {},
   "outputs": [
    {
     "name": "stdout",
     "output_type": "stream",
     "text": [
      "Null Values:\n",
      " Random value 1    0\n",
      "Random value 2    0\n",
      "Random value 3    0\n",
      "Random value 4    0\n",
      "dtype: int64\n",
      "\n",
      "Data Types:\n",
      " Random value 1    float64\n",
      "Random value 2    float64\n",
      "Random value 3    float64\n",
      "Random value 4    float64\n",
      "dtype: object\n"
     ]
    }
   ],
   "source": [
    "# Check for null values\n",
    "null_values = df.isnull().sum()\n",
    "\n",
    "# Print null values\n",
    "print(\"Null Values:\\n\", null_values)\n",
    "\n",
    "# Find data types of columns\n",
    "data_types = df.dtypes\n",
    "\n",
    "# Print data types\n",
    "print(\"\\nData Types:\\n\", data_types)\n"
   ]
  },
  {
   "cell_type": "code",
   "execution_count": 10,
   "id": "d76c998d",
   "metadata": {},
   "outputs": [],
   "source": [
    "#TASK-5 : Display the 'Random value 2' & 'Random value 3' columns with location method and index location method"
   ]
  },
  {
   "cell_type": "code",
   "execution_count": 11,
   "id": "f23ac6ac",
   "metadata": {},
   "outputs": [
    {
     "name": "stdout",
     "output_type": "stream",
     "text": [
      "Columns using location method:\n",
      "    Random value 2  Random value 3\n",
      "0        0.950714        0.731994\n",
      "1        0.155995        0.058084\n",
      "2        0.708073        0.020584\n",
      "3        0.212339        0.181825\n",
      "\n",
      "Columns using index location method:\n",
      "    Random value 2  Random value 3\n",
      "0        0.950714        0.731994\n",
      "1        0.155995        0.058084\n",
      "2        0.708073        0.020584\n",
      "3        0.212339        0.181825\n"
     ]
    }
   ],
   "source": [
    "# Display columns using location method\n",
    "location_method_cols = df.loc[:, ['Random value 2', 'Random value 3']]\n",
    "print(\"Columns using location method:\\n\", location_method_cols)\n",
    "\n",
    "# Display columns using index location method\n",
    "index_location_method_cols = df.iloc[:, [1, 2]]\n",
    "print(\"\\nColumns using index location method:\\n\", index_location_method_cols)\n"
   ]
  }
 ],
 "metadata": {
  "kernelspec": {
   "display_name": "Python 3 (ipykernel)",
   "language": "python",
   "name": "python3"
  },
  "language_info": {
   "codemirror_mode": {
    "name": "ipython",
    "version": 3
   },
   "file_extension": ".py",
   "mimetype": "text/x-python",
   "name": "python",
   "nbconvert_exporter": "python",
   "pygments_lexer": "ipython3",
   "version": "3.9.13"
  }
 },
 "nbformat": 4,
 "nbformat_minor": 5
}
