{
  "cells": [
    {
      "cell_type": "code",
      "execution_count": 11,
      "id": "7cf7daaa",
      "metadata": {
        "id": "7cf7daaa"
      },
      "outputs": [],
      "source": [
        "# AI ASSIGNMENT - 2\n",
        "# Name    : Thammisetty Nihitha Sree\n",
        "# Reg No  : 20MID0043\n",
        "# college : VIT Vellore\n",
        "# Branch  : CSE"
      ]
    },
    {
      "cell_type": "code",
      "execution_count": 11,
      "id": "28fb0dd9",
      "metadata": {
        "id": "28fb0dd9"
      },
      "outputs": [],
      "source": []
    },
    {
      "cell_type": "code",
      "execution_count": 12,
      "id": "147125e9",
      "metadata": {
        "id": "147125e9"
      },
      "outputs": [],
      "source": [
        "#Task 1: Read the dataset and do data pre-processing"
      ]
    },
    {
      "cell_type": "code",
      "execution_count": null,
      "id": "f634ae82",
      "metadata": {
        "id": "f634ae82"
      },
      "outputs": [],
      "source": []
    },
    {
      "cell_type": "code",
      "execution_count": 13,
      "id": "2a75d132",
      "metadata": {
        "id": "2a75d132"
      },
      "outputs": [],
      "source": [
        "#Import the libraries\n",
        "import pandas as pd\n",
        "import tensorflow as tf\n",
        "from tensorflow import keras\n",
        "from tensorflow.keras import Sequential\n",
        "from tensorflow.keras.layers import Flatten,Dense\n",
        "from sklearn.preprocessing import LabelEncoder, StandardScaler\n",
        "from sklearn.model_selection import train_test_split\n",
        "import numpy as np\n",
        "import seaborn as sns\n",
        "import matplotlib.pyplot as plt"
      ]
    },
    {
      "cell_type": "code",
      "source": [
        "from google.colab import drive\n",
        "drive.mount('/content/drive')"
      ],
      "metadata": {
        "colab": {
          "base_uri": "https://localhost:8080/"
        },
        "id": "TvAlb5QWc2Ir",
        "outputId": "b01e570f-bebb-4d45-cee5-dae7978e07b2"
      },
      "id": "TvAlb5QWc2Ir",
      "execution_count": 14,
      "outputs": [
        {
          "output_type": "stream",
          "name": "stdout",
          "text": [
            "Drive already mounted at /content/drive; to attempt to forcibly remount, call drive.mount(\"/content/drive\", force_remount=True).\n"
          ]
        }
      ]
    },
    {
      "cell_type": "code",
      "execution_count": 15,
      "id": "02cf532c",
      "metadata": {
        "colab": {
          "base_uri": "https://localhost:8080/",
          "height": 206
        },
        "id": "02cf532c",
        "outputId": "bea3e82a-1c2b-4c33-9a6f-687438d5c4f0"
      },
      "outputs": [
        {
          "output_type": "execute_result",
          "data": {
            "text/plain": [
              "   Age Sex      BP Cholesterol  Na_to_K   Drug\n",
              "0   23   F    HIGH        HIGH   25.355  DrugY\n",
              "1   47   M     LOW        HIGH   13.093  drugC\n",
              "2   47   M     LOW        HIGH   10.114  drugC\n",
              "3   28   F  NORMAL        HIGH    7.798  drugX\n",
              "4   61   F     LOW        HIGH   18.043  DrugY"
            ],
            "text/html": [
              "\n",
              "  <div id=\"df-7aa5d11e-5d4f-4f16-baf7-27a08ad09821\">\n",
              "    <div class=\"colab-df-container\">\n",
              "      <div>\n",
              "<style scoped>\n",
              "    .dataframe tbody tr th:only-of-type {\n",
              "        vertical-align: middle;\n",
              "    }\n",
              "\n",
              "    .dataframe tbody tr th {\n",
              "        vertical-align: top;\n",
              "    }\n",
              "\n",
              "    .dataframe thead th {\n",
              "        text-align: right;\n",
              "    }\n",
              "</style>\n",
              "<table border=\"1\" class=\"dataframe\">\n",
              "  <thead>\n",
              "    <tr style=\"text-align: right;\">\n",
              "      <th></th>\n",
              "      <th>Age</th>\n",
              "      <th>Sex</th>\n",
              "      <th>BP</th>\n",
              "      <th>Cholesterol</th>\n",
              "      <th>Na_to_K</th>\n",
              "      <th>Drug</th>\n",
              "    </tr>\n",
              "  </thead>\n",
              "  <tbody>\n",
              "    <tr>\n",
              "      <th>0</th>\n",
              "      <td>23</td>\n",
              "      <td>F</td>\n",
              "      <td>HIGH</td>\n",
              "      <td>HIGH</td>\n",
              "      <td>25.355</td>\n",
              "      <td>DrugY</td>\n",
              "    </tr>\n",
              "    <tr>\n",
              "      <th>1</th>\n",
              "      <td>47</td>\n",
              "      <td>M</td>\n",
              "      <td>LOW</td>\n",
              "      <td>HIGH</td>\n",
              "      <td>13.093</td>\n",
              "      <td>drugC</td>\n",
              "    </tr>\n",
              "    <tr>\n",
              "      <th>2</th>\n",
              "      <td>47</td>\n",
              "      <td>M</td>\n",
              "      <td>LOW</td>\n",
              "      <td>HIGH</td>\n",
              "      <td>10.114</td>\n",
              "      <td>drugC</td>\n",
              "    </tr>\n",
              "    <tr>\n",
              "      <th>3</th>\n",
              "      <td>28</td>\n",
              "      <td>F</td>\n",
              "      <td>NORMAL</td>\n",
              "      <td>HIGH</td>\n",
              "      <td>7.798</td>\n",
              "      <td>drugX</td>\n",
              "    </tr>\n",
              "    <tr>\n",
              "      <th>4</th>\n",
              "      <td>61</td>\n",
              "      <td>F</td>\n",
              "      <td>LOW</td>\n",
              "      <td>HIGH</td>\n",
              "      <td>18.043</td>\n",
              "      <td>DrugY</td>\n",
              "    </tr>\n",
              "  </tbody>\n",
              "</table>\n",
              "</div>\n",
              "      <button class=\"colab-df-convert\" onclick=\"convertToInteractive('df-7aa5d11e-5d4f-4f16-baf7-27a08ad09821')\"\n",
              "              title=\"Convert this dataframe to an interactive table.\"\n",
              "              style=\"display:none;\">\n",
              "        \n",
              "  <svg xmlns=\"http://www.w3.org/2000/svg\" height=\"24px\"viewBox=\"0 0 24 24\"\n",
              "       width=\"24px\">\n",
              "    <path d=\"M0 0h24v24H0V0z\" fill=\"none\"/>\n",
              "    <path d=\"M18.56 5.44l.94 2.06.94-2.06 2.06-.94-2.06-.94-.94-2.06-.94 2.06-2.06.94zm-11 1L8.5 8.5l.94-2.06 2.06-.94-2.06-.94L8.5 2.5l-.94 2.06-2.06.94zm10 10l.94 2.06.94-2.06 2.06-.94-2.06-.94-.94-2.06-.94 2.06-2.06.94z\"/><path d=\"M17.41 7.96l-1.37-1.37c-.4-.4-.92-.59-1.43-.59-.52 0-1.04.2-1.43.59L10.3 9.45l-7.72 7.72c-.78.78-.78 2.05 0 2.83L4 21.41c.39.39.9.59 1.41.59.51 0 1.02-.2 1.41-.59l7.78-7.78 2.81-2.81c.8-.78.8-2.07 0-2.86zM5.41 20L4 18.59l7.72-7.72 1.47 1.35L5.41 20z\"/>\n",
              "  </svg>\n",
              "      </button>\n",
              "      \n",
              "  <style>\n",
              "    .colab-df-container {\n",
              "      display:flex;\n",
              "      flex-wrap:wrap;\n",
              "      gap: 12px;\n",
              "    }\n",
              "\n",
              "    .colab-df-convert {\n",
              "      background-color: #E8F0FE;\n",
              "      border: none;\n",
              "      border-radius: 50%;\n",
              "      cursor: pointer;\n",
              "      display: none;\n",
              "      fill: #1967D2;\n",
              "      height: 32px;\n",
              "      padding: 0 0 0 0;\n",
              "      width: 32px;\n",
              "    }\n",
              "\n",
              "    .colab-df-convert:hover {\n",
              "      background-color: #E2EBFA;\n",
              "      box-shadow: 0px 1px 2px rgba(60, 64, 67, 0.3), 0px 1px 3px 1px rgba(60, 64, 67, 0.15);\n",
              "      fill: #174EA6;\n",
              "    }\n",
              "\n",
              "    [theme=dark] .colab-df-convert {\n",
              "      background-color: #3B4455;\n",
              "      fill: #D2E3FC;\n",
              "    }\n",
              "\n",
              "    [theme=dark] .colab-df-convert:hover {\n",
              "      background-color: #434B5C;\n",
              "      box-shadow: 0px 1px 3px 1px rgba(0, 0, 0, 0.15);\n",
              "      filter: drop-shadow(0px 1px 2px rgba(0, 0, 0, 0.3));\n",
              "      fill: #FFFFFF;\n",
              "    }\n",
              "  </style>\n",
              "\n",
              "      <script>\n",
              "        const buttonEl =\n",
              "          document.querySelector('#df-7aa5d11e-5d4f-4f16-baf7-27a08ad09821 button.colab-df-convert');\n",
              "        buttonEl.style.display =\n",
              "          google.colab.kernel.accessAllowed ? 'block' : 'none';\n",
              "\n",
              "        async function convertToInteractive(key) {\n",
              "          const element = document.querySelector('#df-7aa5d11e-5d4f-4f16-baf7-27a08ad09821');\n",
              "          const dataTable =\n",
              "            await google.colab.kernel.invokeFunction('convertToInteractive',\n",
              "                                                     [key], {});\n",
              "          if (!dataTable) return;\n",
              "\n",
              "          const docLinkHtml = 'Like what you see? Visit the ' +\n",
              "            '<a target=\"_blank\" href=https://colab.research.google.com/notebooks/data_table.ipynb>data table notebook</a>'\n",
              "            + ' to learn more about interactive tables.';\n",
              "          element.innerHTML = '';\n",
              "          dataTable['output_type'] = 'display_data';\n",
              "          await google.colab.output.renderOutput(dataTable, element);\n",
              "          const docLink = document.createElement('div');\n",
              "          docLink.innerHTML = docLinkHtml;\n",
              "          element.appendChild(docLink);\n",
              "        }\n",
              "      </script>\n",
              "    </div>\n",
              "  </div>\n",
              "  "
            ]
          },
          "metadata": {},
          "execution_count": 15
        }
      ],
      "source": [
        "#Reading csv file\n",
        "df = pd.read_csv('/content/drive/MyDrive/AI/drug200.csv')\n",
        "\n",
        "# Visualizing the 1st 5 observations\n",
        "df.head()\n"
      ]
    },
    {
      "cell_type": "code",
      "execution_count": null,
      "id": "83ec3afc",
      "metadata": {
        "id": "83ec3afc",
        "outputId": "c9e5ff31-14aa-4ef9-ec4f-9817d4b19868"
      },
      "outputs": [
        {
          "data": {
            "text/html": [
              "<div>\n",
              "<style scoped>\n",
              "    .dataframe tbody tr th:only-of-type {\n",
              "        vertical-align: middle;\n",
              "    }\n",
              "\n",
              "    .dataframe tbody tr th {\n",
              "        vertical-align: top;\n",
              "    }\n",
              "\n",
              "    .dataframe thead th {\n",
              "        text-align: right;\n",
              "    }\n",
              "</style>\n",
              "<table border=\"1\" class=\"dataframe\">\n",
              "  <thead>\n",
              "    <tr style=\"text-align: right;\">\n",
              "      <th></th>\n",
              "      <th>Age</th>\n",
              "      <th>Sex</th>\n",
              "      <th>BP</th>\n",
              "      <th>Cholesterol</th>\n",
              "      <th>Na_to_K</th>\n",
              "      <th>Drug</th>\n",
              "    </tr>\n",
              "  </thead>\n",
              "  <tbody>\n",
              "    <tr>\n",
              "      <th>195</th>\n",
              "      <td>56</td>\n",
              "      <td>F</td>\n",
              "      <td>LOW</td>\n",
              "      <td>HIGH</td>\n",
              "      <td>11.567</td>\n",
              "      <td>drugC</td>\n",
              "    </tr>\n",
              "    <tr>\n",
              "      <th>196</th>\n",
              "      <td>16</td>\n",
              "      <td>M</td>\n",
              "      <td>LOW</td>\n",
              "      <td>HIGH</td>\n",
              "      <td>12.006</td>\n",
              "      <td>drugC</td>\n",
              "    </tr>\n",
              "    <tr>\n",
              "      <th>197</th>\n",
              "      <td>52</td>\n",
              "      <td>M</td>\n",
              "      <td>NORMAL</td>\n",
              "      <td>HIGH</td>\n",
              "      <td>9.894</td>\n",
              "      <td>drugX</td>\n",
              "    </tr>\n",
              "    <tr>\n",
              "      <th>198</th>\n",
              "      <td>23</td>\n",
              "      <td>M</td>\n",
              "      <td>NORMAL</td>\n",
              "      <td>NORMAL</td>\n",
              "      <td>14.020</td>\n",
              "      <td>drugX</td>\n",
              "    </tr>\n",
              "    <tr>\n",
              "      <th>199</th>\n",
              "      <td>40</td>\n",
              "      <td>F</td>\n",
              "      <td>LOW</td>\n",
              "      <td>NORMAL</td>\n",
              "      <td>11.349</td>\n",
              "      <td>drugX</td>\n",
              "    </tr>\n",
              "  </tbody>\n",
              "</table>\n",
              "</div>"
            ],
            "text/plain": [
              "     Age Sex      BP Cholesterol  Na_to_K   Drug\n",
              "195   56   F     LOW        HIGH   11.567  drugC\n",
              "196   16   M     LOW        HIGH   12.006  drugC\n",
              "197   52   M  NORMAL        HIGH    9.894  drugX\n",
              "198   23   M  NORMAL      NORMAL   14.020  drugX\n",
              "199   40   F     LOW      NORMAL   11.349  drugX"
            ]
          },
          "execution_count": 3,
          "metadata": {},
          "output_type": "execute_result"
        }
      ],
      "source": [
        "# Visualizing the last 5 observations\n",
        "df.tail()"
      ]
    },
    {
      "cell_type": "code",
      "execution_count": null,
      "id": "320e7ec8",
      "metadata": {
        "id": "320e7ec8",
        "outputId": "a71ef68b-30be-4de3-96d5-4265ec7bfb15"
      },
      "outputs": [
        {
          "data": {
            "text/plain": [
              "(200, 6)"
            ]
          },
          "execution_count": 5,
          "metadata": {},
          "output_type": "execute_result"
        }
      ],
      "source": [
        "df.shape"
      ]
    },
    {
      "cell_type": "code",
      "execution_count": null,
      "id": "5d60abe7",
      "metadata": {
        "id": "5d60abe7",
        "outputId": "b89ae97e-8db6-4b25-9d7d-30330770ca05"
      },
      "outputs": [
        {
          "data": {
            "text/plain": [
              "Age            0\n",
              "Sex            0\n",
              "BP             0\n",
              "Cholesterol    0\n",
              "Na_to_K        0\n",
              "Drug           0\n",
              "dtype: int64"
            ]
          },
          "execution_count": 7,
          "metadata": {},
          "output_type": "execute_result"
        }
      ],
      "source": [
        "df.isnull().sum()"
      ]
    },
    {
      "cell_type": "code",
      "execution_count": null,
      "id": "2fca7ba1",
      "metadata": {
        "id": "2fca7ba1",
        "outputId": "cbe26e62-9bbf-43bf-c12e-c494f0c0d793"
      },
      "outputs": [
        {
          "data": {
            "text/plain": [
              "<bound method DataFrame.info of      Age Sex      BP Cholesterol  Na_to_K   Drug\n",
              "0     23   F    HIGH        HIGH   25.355  DrugY\n",
              "1     47   M     LOW        HIGH   13.093  drugC\n",
              "2     47   M     LOW        HIGH   10.114  drugC\n",
              "3     28   F  NORMAL        HIGH    7.798  drugX\n",
              "4     61   F     LOW        HIGH   18.043  DrugY\n",
              "..   ...  ..     ...         ...      ...    ...\n",
              "195   56   F     LOW        HIGH   11.567  drugC\n",
              "196   16   M     LOW        HIGH   12.006  drugC\n",
              "197   52   M  NORMAL        HIGH    9.894  drugX\n",
              "198   23   M  NORMAL      NORMAL   14.020  drugX\n",
              "199   40   F     LOW      NORMAL   11.349  drugX\n",
              "\n",
              "[200 rows x 6 columns]>"
            ]
          },
          "execution_count": 9,
          "metadata": {},
          "output_type": "execute_result"
        }
      ],
      "source": [
        "df.info"
      ]
    },
    {
      "cell_type": "code",
      "execution_count": null,
      "id": "d23e02da",
      "metadata": {
        "id": "d23e02da",
        "outputId": "853c95e1-4885-4a88-dcbf-638c0b010136"
      },
      "outputs": [
        {
          "data": {
            "text/plain": [
              "<bound method NDFrame.describe of      Age Sex      BP Cholesterol  Na_to_K   Drug\n",
              "0     23   F    HIGH        HIGH   25.355  DrugY\n",
              "1     47   M     LOW        HIGH   13.093  drugC\n",
              "2     47   M     LOW        HIGH   10.114  drugC\n",
              "3     28   F  NORMAL        HIGH    7.798  drugX\n",
              "4     61   F     LOW        HIGH   18.043  DrugY\n",
              "..   ...  ..     ...         ...      ...    ...\n",
              "195   56   F     LOW        HIGH   11.567  drugC\n",
              "196   16   M     LOW        HIGH   12.006  drugC\n",
              "197   52   M  NORMAL        HIGH    9.894  drugX\n",
              "198   23   M  NORMAL      NORMAL   14.020  drugX\n",
              "199   40   F     LOW      NORMAL   11.349  drugX\n",
              "\n",
              "[200 rows x 6 columns]>"
            ]
          },
          "execution_count": 10,
          "metadata": {},
          "output_type": "execute_result"
        }
      ],
      "source": [
        "#check for statistical info\n",
        "df.describe"
      ]
    },
    {
      "cell_type": "code",
      "execution_count": null,
      "id": "85d60773",
      "metadata": {
        "id": "85d60773",
        "outputId": "3c5c8212-2d75-42c4-925a-ed3dbd1dcd91"
      },
      "outputs": [
        {
          "data": {
            "text/plain": [
              "<Axes: >"
            ]
          },
          "execution_count": 11,
          "metadata": {},
          "output_type": "execute_result"
        },
        {
          "data": {
            "image/png": "[encoded data removed]",
            "text/plain": [
              "<Figure size 640x480 with 1 Axes>"
            ]
          },
          "metadata": {},
          "output_type": "display_data"
        }
      ],
      "source": [
        "sns.boxplot(df['Na_to_K'])"
      ]
    },
    {
      "cell_type": "code",
      "execution_count": null,
      "id": "62edfa4e",
      "metadata": {
        "id": "62edfa4e",
        "outputId": "21bcb7f2-ec4a-479b-e2b5-0f005328138d"
      },
      "outputs": [
        {
          "data": {
            "text/plain": [
              "<Axes: >"
            ]
          },
          "execution_count": 12,
          "metadata": {},
          "output_type": "execute_result"
        },
        {
          "data": {
            "image/png": "[encoded data removed]",
            "text/plain": [
              "<Figure size 640x480 with 1 Axes>"
            ]
          },
          "metadata": {},
          "output_type": "display_data"
        }
      ],
      "source": [
        "sns.boxplot(df)"
      ]
    },
    {
      "cell_type": "code",
      "execution_count": null,
      "id": "9bfe91a8",
      "metadata": {
        "id": "9bfe91a8",
        "outputId": "9372c561-15e6-4ec6-c354-73d2bbf0ace7"
      },
      "outputs": [
        {
          "data": {
            "text/plain": [
              "<Axes: xlabel='Drug', ylabel='count'>"
            ]
          },
          "execution_count": 14,
          "metadata": {},
          "output_type": "execute_result"
        },
        {
          "data": {
            "image/png": "[encoded data removed]",
            "text/plain": [
              "<Figure size 640x480 with 1 Axes>"
            ]
          },
          "metadata": {},
          "output_type": "display_data"
        }
      ],
      "source": [
        "sns.countplot(x='Drug',data=df,hue='Drug')"
      ]
    },
    {
      "cell_type": "code",
      "execution_count": null,
      "id": "7f5de2a1",
      "metadata": {
        "id": "7f5de2a1",
        "outputId": "bc5cf037-b79c-4901-e944-55c2dba84704"
      },
      "outputs": [
        {
          "data": {
            "text/plain": [
              "<Axes: xlabel='BP', ylabel='count'>"
            ]
          },
          "execution_count": 15,
          "metadata": {},
          "output_type": "execute_result"
        },
        {
          "data": {
            "image/png": "[encoded data removed]",
            "text/plain": [
              "<Figure size 640x480 with 1 Axes>"
            ]
          },
          "metadata": {},
          "output_type": "display_data"
        }
      ],
      "source": [
        "sns.countplot(x='BP',data=df,hue='BP')"
      ]
    },
    {
      "cell_type": "code",
      "execution_count": null,
      "id": "9e449c01",
      "metadata": {
        "id": "9e449c01",
        "outputId": "4a04307e-6b9d-4fea-b462-0cddb4701134"
      },
      "outputs": [
        {
          "data": {
            "text/plain": [
              "<Axes: xlabel='Na_to_K', ylabel='Count'>"
            ]
          },
          "execution_count": 16,
          "metadata": {},
          "output_type": "execute_result"
        },
        {
          "data": {
            "image/png": "[encoded data removed]",
            "text/plain": [
              "<Figure size 640x480 with 1 Axes>"
            ]
          },
          "metadata": {},
          "output_type": "display_data"
        }
      ],
      "source": [
        "sns.histplot(x='Na_to_K',data=df)"
      ]
    },
    {
      "cell_type": "code",
      "execution_count": null,
      "id": "2694164d",
      "metadata": {
        "id": "2694164d"
      },
      "outputs": [],
      "source": [
        "#segregate the data into the train & test\n",
        "X = df.drop(columns = ['Drug'],axis=1)\n",
        "Y = df['Drug']"
      ]
    },
    {
      "cell_type": "code",
      "execution_count": null,
      "id": "1411363e",
      "metadata": {
        "id": "1411363e",
        "outputId": "16011b35-75e7-401e-d770-3fc0abc11705"
      },
      "outputs": [
        {
          "name": "stdout",
          "output_type": "stream",
          "text": [
            "5\n"
          ]
        }
      ],
      "source": [
        "#Drug column is the output(target) column in this dataset.\n",
        "Y_class = len(np.unique(Y))\n",
        "print(Y_class)"
      ]
    },
    {
      "cell_type": "code",
      "execution_count": null,
      "id": "f08e18d9",
      "metadata": {
        "id": "f08e18d9"
      },
      "outputs": [],
      "source": [
        "X = pd.get_dummies(X,columns=['Sex','BP','Cholesterol'],drop_first = True)\n",
        "LE = LabelEncoder()\n",
        "Y = LE.fit_transform(Y)\n",
        "X_train, X_test, Y_train, Y_test = train_test_split (X,Y,test_size=0.3,random_state=2)"
      ]
    },
    {
      "cell_type": "code",
      "execution_count": null,
      "id": "0f957282",
      "metadata": {
        "id": "0f957282"
      },
      "outputs": [],
      "source": [
        "from sklearn.preprocessing import StandardScaler\n",
        "sc = StandardScaler()\n",
        "X_train = sc.fit_transform(X_train)\n",
        "X_test = sc.fit_transform(X_test)\n",
        "Y_train = keras.utils.to_categorical(Y_train)\n",
        "Y_test = keras.utils.to_categorical(Y_test)\n"
      ]
    },
    {
      "cell_type": "code",
      "execution_count": null,
      "id": "f301e623",
      "metadata": {
        "id": "f301e623"
      },
      "outputs": [],
      "source": []
    },
    {
      "cell_type": "code",
      "execution_count": null,
      "id": "ff00ba06",
      "metadata": {
        "id": "ff00ba06"
      },
      "outputs": [],
      "source": [
        "#Task 2: Build the ANN model with (input layer, min 3 hidden layers & output layer)"
      ]
    },
    {
      "cell_type": "code",
      "execution_count": null,
      "id": "f2f6f2a7",
      "metadata": {
        "id": "f2f6f2a7"
      },
      "outputs": [],
      "source": []
    },
    {
      "cell_type": "code",
      "execution_count": null,
      "id": "bf0f5cda",
      "metadata": {
        "id": "bf0f5cda",
        "outputId": "c11ffadd-e36c-464e-ee7d-ddfc4e977343"
      },
      "outputs": [
        {
          "name": "stdout",
          "output_type": "stream",
          "text": [
            "Model: \"sequential\"\n",
            "_________________________________________________________________\n",
            " Layer (type)                Output Shape              Param #   \n",
            "=================================================================\n",
            " dense (Dense)               (None, 48)                336       \n",
            "                                                                 \n",
            " dense_1 (Dense)             (None, 36)                1764      \n",
            "                                                                 \n",
            " dense_2 (Dense)             (None, 24)                888       \n",
            "                                                                 \n",
            " dense_3 (Dense)             (None, 12)                300       \n",
            "                                                                 \n",
            " dense_4 (Dense)             (None, 5)                 65        \n",
            "                                                                 \n",
            "=================================================================\n",
            "Total params: 3,353\n",
            "Trainable params: 3,353\n",
            "Non-trainable params: 0\n",
            "_________________________________________________________________\n"
          ]
        }
      ],
      "source": [
        "model = Sequential()\n",
        "model.add(Dense(48, input_dim=6, activation='relu'))\n",
        "model.add(Dense(36, activation='relu'))\n",
        "model.add(Dense(24, activation='relu'))\n",
        "model.add(Dense(12, activation='relu'))\n",
        "output_layer = Dense(Y_class,activation='softmax')\n",
        "model.add(output_layer)\n",
        "model.summary()"
      ]
    },
    {
      "cell_type": "code",
      "execution_count": null,
      "id": "65ffdb26",
      "metadata": {
        "id": "65ffdb26"
      },
      "outputs": [],
      "source": [
        "model.compile(loss='categorical_crossentropy', optimizer='adam', metrics=['accuracy'])"
      ]
    },
    {
      "cell_type": "code",
      "execution_count": null,
      "id": "5586f438",
      "metadata": {
        "id": "5586f438",
        "outputId": "03222c38-caec-4d23-88e8-3a568d0bcdd5"
      },
      "outputs": [
        {
          "name": "stdout",
          "output_type": "stream",
          "text": [
            "Epoch 1/48\n",
            "24/24 [==============================] - 2s 6ms/step - loss: 1.5181 - accuracy: 0.5000\n",
            "Epoch 2/48\n",
            "24/24 [==============================] - 0s 8ms/step - loss: 1.3666 - accuracy: 0.6357\n",
            "Epoch 3/48\n",
            "24/24 [==============================] - 0s 7ms/step - loss: 1.1411 - accuracy: 0.6214\n",
            "Epoch 4/48\n",
            "24/24 [==============================] - 0s 6ms/step - loss: 0.8728 - accuracy: 0.6786\n",
            "Epoch 5/48\n",
            "24/24 [==============================] - 0s 6ms/step - loss: 0.6805 - accuracy: 0.7643\n",
            "Epoch 6/48\n",
            "24/24 [==============================] - 0s 6ms/step - loss: 0.5505 - accuracy: 0.7571\n",
            "Epoch 7/48\n",
            "24/24 [==============================] - 0s 6ms/step - loss: 0.4460 - accuracy: 0.8000\n",
            "Epoch 8/48\n",
            "24/24 [==============================] - 0s 5ms/step - loss: 0.3719 - accuracy: 0.8286\n",
            "Epoch 9/48\n",
            "24/24 [==============================] - 0s 5ms/step - loss: 0.3005 - accuracy: 0.8857\n",
            "Epoch 10/48\n",
            "24/24 [==============================] - 0s 5ms/step - loss: 0.2368 - accuracy: 0.9143\n",
            "Epoch 11/48\n",
            "24/24 [==============================] - 0s 6ms/step - loss: 0.1875 - accuracy: 0.9571\n",
            "Epoch 12/48\n",
            "24/24 [==============================] - 0s 7ms/step - loss: 0.1473 - accuracy: 0.9929\n",
            "Epoch 13/48\n",
            "24/24 [==============================] - 0s 11ms/step - loss: 0.1092 - accuracy: 1.0000\n",
            "Epoch 14/48\n",
            "24/24 [==============================] - 0s 6ms/step - loss: 0.0885 - accuracy: 0.9929\n",
            "Epoch 15/48\n",
            "24/24 [==============================] - 0s 7ms/step - loss: 0.0634 - accuracy: 1.0000\n",
            "Epoch 16/48\n",
            "24/24 [==============================] - 0s 8ms/step - loss: 0.0524 - accuracy: 1.0000\n",
            "Epoch 17/48\n",
            "24/24 [==============================] - 0s 10ms/step - loss: 0.0403 - accuracy: 1.0000\n",
            "Epoch 18/48\n",
            "24/24 [==============================] - 0s 8ms/step - loss: 0.0365 - accuracy: 1.0000\n",
            "Epoch 19/48\n",
            "24/24 [==============================] - 0s 9ms/step - loss: 0.0264 - accuracy: 1.0000\n",
            "Epoch 20/48\n",
            "24/24 [==============================] - 0s 9ms/step - loss: 0.0215 - accuracy: 1.0000\n",
            "Epoch 21/48\n",
            "24/24 [==============================] - 0s 7ms/step - loss: 0.0187 - accuracy: 1.0000\n",
            "Epoch 22/48\n",
            "24/24 [==============================] - 0s 6ms/step - loss: 0.0162 - accuracy: 1.0000\n",
            "Epoch 23/48\n",
            "24/24 [==============================] - 0s 7ms/step - loss: 0.0138 - accuracy: 1.0000\n",
            "Epoch 24/48\n",
            "24/24 [==============================] - 0s 8ms/step - loss: 0.0119 - accuracy: 1.0000\n",
            "Epoch 25/48\n",
            "24/24 [==============================] - 0s 7ms/step - loss: 0.0103 - accuracy: 1.0000\n",
            "Epoch 26/48\n",
            "24/24 [==============================] - 0s 6ms/step - loss: 0.0091 - accuracy: 1.0000\n",
            "Epoch 27/48\n",
            "24/24 [==============================] - 0s 7ms/step - loss: 0.0079 - accuracy: 1.0000\n",
            "Epoch 28/48\n",
            "24/24 [==============================] - 0s 8ms/step - loss: 0.0074 - accuracy: 1.0000\n",
            "Epoch 29/48\n",
            "24/24 [==============================] - 0s 7ms/step - loss: 0.0074 - accuracy: 1.0000\n",
            "Epoch 30/48\n",
            "24/24 [==============================] - 0s 7ms/step - loss: 0.0061 - accuracy: 1.0000\n",
            "Epoch 31/48\n",
            "24/24 [==============================] - 0s 6ms/step - loss: 0.0055 - accuracy: 1.0000\n",
            "Epoch 32/48\n",
            "24/24 [==============================] - 0s 7ms/step - loss: 0.0053 - accuracy: 1.0000\n",
            "Epoch 33/48\n",
            "24/24 [==============================] - 0s 7ms/step - loss: 0.0047 - accuracy: 1.0000\n",
            "Epoch 34/48\n",
            "24/24 [==============================] - 0s 6ms/step - loss: 0.0046 - accuracy: 1.0000\n",
            "Epoch 35/48\n",
            "24/24 [==============================] - 0s 6ms/step - loss: 0.0041 - accuracy: 1.0000\n",
            "Epoch 36/48\n",
            "24/24 [==============================] - 0s 5ms/step - loss: 0.0040 - accuracy: 1.0000\n",
            "Epoch 37/48\n",
            "24/24 [==============================] - 0s 5ms/step - loss: 0.0035 - accuracy: 1.0000\n",
            "Epoch 38/48\n",
            "24/24 [==============================] - 0s 5ms/step - loss: 0.0033 - accuracy: 1.0000\n",
            "Epoch 39/48\n",
            "24/24 [==============================] - 0s 7ms/step - loss: 0.0033 - accuracy: 1.0000\n",
            "Epoch 40/48\n",
            "24/24 [==============================] - 0s 6ms/step - loss: 0.0030 - accuracy: 1.0000\n",
            "Epoch 41/48\n",
            "24/24 [==============================] - 0s 6ms/step - loss: 0.0027 - accuracy: 1.0000\n",
            "Epoch 42/48\n",
            "24/24 [==============================] - 0s 6ms/step - loss: 0.0025 - accuracy: 1.0000\n",
            "Epoch 43/48\n",
            "24/24 [==============================] - 0s 7ms/step - loss: 0.0024 - accuracy: 1.0000\n",
            "Epoch 44/48\n",
            "24/24 [==============================] - 0s 6ms/step - loss: 0.0023 - accuracy: 1.0000\n",
            "Epoch 45/48\n",
            "24/24 [==============================] - 0s 5ms/step - loss: 0.0022 - accuracy: 1.0000\n",
            "Epoch 46/48\n",
            "24/24 [==============================] - 0s 5ms/step - loss: 0.0021 - accuracy: 1.0000\n",
            "Epoch 47/48\n",
            "24/24 [==============================] - 0s 5ms/step - loss: 0.0020 - accuracy: 1.0000\n",
            "Epoch 48/48\n",
            "24/24 [==============================] - 0s 5ms/step - loss: 0.0018 - accuracy: 1.0000\n"
          ]
        },
        {
          "data": {
            "text/plain": [
              "<keras.callbacks.History at 0x23986703a00>"
            ]
          },
          "execution_count": 25,
          "metadata": {},
          "output_type": "execute_result"
        }
      ],
      "source": [
        "#train the model\n",
        "model.fit(X_train,Y_train,epochs=48,batch_size=6)"
      ]
    },
    {
      "cell_type": "code",
      "execution_count": null,
      "id": "06dccde2",
      "metadata": {
        "id": "06dccde2"
      },
      "outputs": [],
      "source": []
    },
    {
      "cell_type": "code",
      "execution_count": null,
      "id": "e597cc4b",
      "metadata": {
        "id": "e597cc4b"
      },
      "outputs": [],
      "source": [
        "#Task 3: Test the model with random data"
      ]
    },
    {
      "cell_type": "code",
      "execution_count": null,
      "id": "8fcbf390",
      "metadata": {
        "id": "8fcbf390"
      },
      "outputs": [],
      "source": []
    },
    {
      "cell_type": "code",
      "execution_count": null,
      "id": "6da689c3",
      "metadata": {
        "id": "6da689c3",
        "outputId": "1af0c2d2-8fe6-44bc-b12b-4c1ed9c327b4"
      },
      "outputs": [
        {
          "name": "stdout",
          "output_type": "stream",
          "text": [
            "2/2 [==============================] - 0s 8ms/step - loss: 0.4555 - accuracy: 0.8833\n",
            "Test accuracy: 88.33333253860474\n"
          ]
        }
      ],
      "source": [
        "#Evaluate the model on the test set\n",
        "test_loss, test_acc = model.evaluate(X_test, Y_test)\n",
        "print('Test accuracy:', test_acc * 100)"
      ]
    },
    {
      "cell_type": "code",
      "execution_count": null,
      "id": "7f897b94",
      "metadata": {
        "id": "7f897b94"
      },
      "outputs": [],
      "source": []
    }
  ],
  "metadata": {
    "kernelspec": {
      "display_name": "Python 3 (ipykernel)",
      "language": "python",
      "name": "python3"
    },
    "language_info": {
      "codemirror_mode": {
        "name": "ipython",
        "version": 3
      },
      "file_extension": ".py",
      "mimetype": "text/x-python",
      "name": "python",
      "nbconvert_exporter": "python",
      "pygments_lexer": "ipython3",
      "version": "3.10.9"
    },
    "colab": {
      "provenance": []
    }
  },
  "nbformat": 4,
  "nbformat_minor": 5
}